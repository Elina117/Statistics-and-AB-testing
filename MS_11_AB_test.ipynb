{
 "cells": [
  {
   "cell_type": "markdown",
   "id": "4fb7382f-73ea-4765-b6b1-07cae121a8be",
   "metadata": {},
   "source": [
    "Данные\n",
    "В результате у нас получилось 2 таблички:\n",
    "\n",
    "Ответы наши сервиса с рекомендациями — в них мы знаем, какому пользователю что мы порекомендовали и в какую группу его отнесли. И, конечно, знаем момент времени, когда это произошло.\n",
    "Данные о лайках — в них мы знаем, какой пользователь и какой пост лайкнул, в том числе момент времени, когда это произошло."
   ]
  },
  {
   "cell_type": "code",
   "execution_count": 216,
   "id": "cc57bad9-bc60-49bf-b250-181d4527c5f6",
   "metadata": {},
   "outputs": [],
   "source": [
    "import pandas as pd\n",
    "\n",
    "likes = pd.read_csv('likes.csv')\n",
    "views = pd.read_csv('views.csv')"
   ]
  },
  {
   "cell_type": "code",
   "execution_count": 217,
   "id": "185f9de3-b16c-4f59-8ded-2f897823e86e",
   "metadata": {},
   "outputs": [
    {
     "data": {
      "text/html": [
       "<div>\n",
       "<style scoped>\n",
       "    .dataframe tbody tr th:only-of-type {\n",
       "        vertical-align: middle;\n",
       "    }\n",
       "\n",
       "    .dataframe tbody tr th {\n",
       "        vertical-align: top;\n",
       "    }\n",
       "\n",
       "    .dataframe thead th {\n",
       "        text-align: right;\n",
       "    }\n",
       "</style>\n",
       "<table border=\"1\" class=\"dataframe\">\n",
       "  <thead>\n",
       "    <tr style=\"text-align: right;\">\n",
       "      <th></th>\n",
       "      <th>user_id</th>\n",
       "      <th>post_id</th>\n",
       "      <th>timestamp</th>\n",
       "    </tr>\n",
       "  </thead>\n",
       "  <tbody>\n",
       "    <tr>\n",
       "      <th>0</th>\n",
       "      <td>128381</td>\n",
       "      <td>4704</td>\n",
       "      <td>1654030804</td>\n",
       "    </tr>\n",
       "    <tr>\n",
       "      <th>1</th>\n",
       "      <td>146885</td>\n",
       "      <td>1399</td>\n",
       "      <td>1654030816</td>\n",
       "    </tr>\n",
       "    <tr>\n",
       "      <th>2</th>\n",
       "      <td>50948</td>\n",
       "      <td>2315</td>\n",
       "      <td>1654030828</td>\n",
       "    </tr>\n",
       "    <tr>\n",
       "      <th>3</th>\n",
       "      <td>14661</td>\n",
       "      <td>673</td>\n",
       "      <td>1654030831</td>\n",
       "    </tr>\n",
       "    <tr>\n",
       "      <th>4</th>\n",
       "      <td>37703</td>\n",
       "      <td>1588</td>\n",
       "      <td>1654030833</td>\n",
       "    </tr>\n",
       "    <tr>\n",
       "      <th>...</th>\n",
       "      <td>...</td>\n",
       "      <td>...</td>\n",
       "      <td>...</td>\n",
       "    </tr>\n",
       "    <tr>\n",
       "      <th>230171</th>\n",
       "      <td>31851</td>\n",
       "      <td>5964</td>\n",
       "      <td>1655243535</td>\n",
       "    </tr>\n",
       "    <tr>\n",
       "      <th>230172</th>\n",
       "      <td>51512</td>\n",
       "      <td>1498</td>\n",
       "      <td>1655243537</td>\n",
       "    </tr>\n",
       "    <tr>\n",
       "      <th>230173</th>\n",
       "      <td>34017</td>\n",
       "      <td>5009</td>\n",
       "      <td>1655243573</td>\n",
       "    </tr>\n",
       "    <tr>\n",
       "      <th>230174</th>\n",
       "      <td>13267</td>\n",
       "      <td>1787</td>\n",
       "      <td>1655243692</td>\n",
       "    </tr>\n",
       "    <tr>\n",
       "      <th>230175</th>\n",
       "      <td>67302</td>\n",
       "      <td>7255</td>\n",
       "      <td>1655243736</td>\n",
       "    </tr>\n",
       "  </tbody>\n",
       "</table>\n",
       "<p>230176 rows × 3 columns</p>\n",
       "</div>"
      ],
      "text/plain": [
       "        user_id  post_id   timestamp\n",
       "0        128381     4704  1654030804\n",
       "1        146885     1399  1654030816\n",
       "2         50948     2315  1654030828\n",
       "3         14661      673  1654030831\n",
       "4         37703     1588  1654030833\n",
       "...         ...      ...         ...\n",
       "230171    31851     5964  1655243535\n",
       "230172    51512     1498  1655243537\n",
       "230173    34017     5009  1655243573\n",
       "230174    13267     1787  1655243692\n",
       "230175    67302     7255  1655243736\n",
       "\n",
       "[230176 rows x 3 columns]"
      ]
     },
     "execution_count": 217,
     "metadata": {},
     "output_type": "execute_result"
    }
   ],
   "source": [
    "likes"
   ]
  },
  {
   "cell_type": "code",
   "execution_count": 218,
   "id": "d3a5c702-40e6-4abb-b200-5432cffef676",
   "metadata": {},
   "outputs": [
    {
     "data": {
      "text/html": [
       "<div>\n",
       "<style scoped>\n",
       "    .dataframe tbody tr th:only-of-type {\n",
       "        vertical-align: middle;\n",
       "    }\n",
       "\n",
       "    .dataframe tbody tr th {\n",
       "        vertical-align: top;\n",
       "    }\n",
       "\n",
       "    .dataframe thead th {\n",
       "        text-align: right;\n",
       "    }\n",
       "</style>\n",
       "<table border=\"1\" class=\"dataframe\">\n",
       "  <thead>\n",
       "    <tr style=\"text-align: right;\">\n",
       "      <th></th>\n",
       "      <th>user_id</th>\n",
       "      <th>exp_group</th>\n",
       "      <th>recommendations</th>\n",
       "      <th>timestamp</th>\n",
       "    </tr>\n",
       "  </thead>\n",
       "  <tbody>\n",
       "    <tr>\n",
       "      <th>0</th>\n",
       "      <td>128381</td>\n",
       "      <td>control</td>\n",
       "      <td>[3644 4529 4704 5294 4808]</td>\n",
       "      <td>1654030803</td>\n",
       "    </tr>\n",
       "    <tr>\n",
       "      <th>1</th>\n",
       "      <td>146885</td>\n",
       "      <td>test</td>\n",
       "      <td>[1399 1076  797 7015 5942]</td>\n",
       "      <td>1654030811</td>\n",
       "    </tr>\n",
       "    <tr>\n",
       "      <th>2</th>\n",
       "      <td>50948</td>\n",
       "      <td>test</td>\n",
       "      <td>[2315 3037 1861 6567 4093]</td>\n",
       "      <td>1654030825</td>\n",
       "    </tr>\n",
       "    <tr>\n",
       "      <th>3</th>\n",
       "      <td>37703</td>\n",
       "      <td>test</td>\n",
       "      <td>[2842 1949  162 1588 6794]</td>\n",
       "      <td>1654030826</td>\n",
       "    </tr>\n",
       "    <tr>\n",
       "      <th>4</th>\n",
       "      <td>14661</td>\n",
       "      <td>test</td>\n",
       "      <td>[2395 5881 5648 3417  673]</td>\n",
       "      <td>1654030829</td>\n",
       "    </tr>\n",
       "    <tr>\n",
       "      <th>...</th>\n",
       "      <td>...</td>\n",
       "      <td>...</td>\n",
       "      <td>...</td>\n",
       "      <td>...</td>\n",
       "    </tr>\n",
       "    <tr>\n",
       "      <th>193290</th>\n",
       "      <td>158267</td>\n",
       "      <td>test</td>\n",
       "      <td>[1733 6834 4380 1915 1627]</td>\n",
       "      <td>1655240340</td>\n",
       "    </tr>\n",
       "    <tr>\n",
       "      <th>193291</th>\n",
       "      <td>63527</td>\n",
       "      <td>control</td>\n",
       "      <td>[2454  191 3873 6404 1588]</td>\n",
       "      <td>1655240347</td>\n",
       "    </tr>\n",
       "    <tr>\n",
       "      <th>193292</th>\n",
       "      <td>52169</td>\n",
       "      <td>test</td>\n",
       "      <td>[1368 1709 1616  798 5305]</td>\n",
       "      <td>1655240354</td>\n",
       "    </tr>\n",
       "    <tr>\n",
       "      <th>193293</th>\n",
       "      <td>142402</td>\n",
       "      <td>test</td>\n",
       "      <td>[5895 6984 1978 6548 6106]</td>\n",
       "      <td>1655240373</td>\n",
       "    </tr>\n",
       "    <tr>\n",
       "      <th>193294</th>\n",
       "      <td>72259</td>\n",
       "      <td>control</td>\n",
       "      <td>[6117 1255 6567 3587 3811]</td>\n",
       "      <td>1655240388</td>\n",
       "    </tr>\n",
       "  </tbody>\n",
       "</table>\n",
       "<p>193295 rows × 4 columns</p>\n",
       "</div>"
      ],
      "text/plain": [
       "        user_id exp_group             recommendations   timestamp\n",
       "0        128381   control  [3644 4529 4704 5294 4808]  1654030803\n",
       "1        146885      test  [1399 1076  797 7015 5942]  1654030811\n",
       "2         50948      test  [2315 3037 1861 6567 4093]  1654030825\n",
       "3         37703      test  [2842 1949  162 1588 6794]  1654030826\n",
       "4         14661      test  [2395 5881 5648 3417  673]  1654030829\n",
       "...         ...       ...                         ...         ...\n",
       "193290   158267      test  [1733 6834 4380 1915 1627]  1655240340\n",
       "193291    63527   control  [2454  191 3873 6404 1588]  1655240347\n",
       "193292    52169      test  [1368 1709 1616  798 5305]  1655240354\n",
       "193293   142402      test  [5895 6984 1978 6548 6106]  1655240373\n",
       "193294    72259   control  [6117 1255 6567 3587 3811]  1655240388\n",
       "\n",
       "[193295 rows x 4 columns]"
      ]
     },
     "execution_count": 218,
     "metadata": {},
     "output_type": "execute_result"
    }
   ],
   "source": [
    "views\n"
   ]
  },
  {
   "cell_type": "markdown",
   "id": "18f34282-c2dd-425b-b7b6-dba931c86326",
   "metadata": {},
   "source": [
    "Во-первых, у нас нет таблички соответствия пользователь-группа, так как мы на самом деле определяли группу пользователя прямо перед подготовкой рекомендаций.\n",
    "\n",
    "Может показаться, что это гарантирует нам однозначное соответствие групп для пользователей, но давайте это проверим. В реальности бывают лаги системы (например, если мы запрашиваем группу пользователя, то не всегда можем получить ответ) и это свойство не выполняется. Проверьте, нет ли у нас пользователей, которые попали в обе группы. Если их совсем немного, удалите их из обеих выборок (если бы было много, то надо было разбираться, что пошло не так)."
   ]
  },
  {
   "cell_type": "markdown",
   "id": "bb1a0948-9a53-4381-9509-9ec2b2d47e60",
   "metadata": {},
   "source": [
    "### Удаляем юзеров попавших в обе группы, если таких немного"
   ]
  },
  {
   "cell_type": "code",
   "execution_count": 219,
   "id": "e9f77805-7241-49c2-a562-28503ff830fb",
   "metadata": {},
   "outputs": [
    {
     "name": "stdout",
     "output_type": "stream",
     "text": [
      "ID users witch were in both groups Index([25623, 55788, 142283, 148670], dtype='int64', name='user_id')\n"
     ]
    }
   ],
   "source": [
    "users_group = views.groupby('user_id')['exp_group'].nunique()\n",
    "duplicated_users = users_group[users_group > 1].index\n",
    "print(f'ID users witch were in both groups {duplicated_users}')\n",
    "\n",
    "remove_views = views[~views['user_id'].isin(duplicated_users)]\n",
    "remove_likes = likes[~likes['user_id'].isin(duplicated_users)]"
   ]
  },
  {
   "cell_type": "code",
   "execution_count": 220,
   "id": "bc8a82c8-5c46-4fc1-9ff3-2d63285b376c",
   "metadata": {},
   "outputs": [
    {
     "data": {
      "text/plain": [
       "193268"
      ]
     },
     "execution_count": 220,
     "metadata": {},
     "output_type": "execute_result"
    }
   ],
   "source": [
    "remove_views.shape[0]"
   ]
  },
  {
   "cell_type": "markdown",
   "id": "5b5930a3-6975-4454-bb34-27966357a424",
   "metadata": {},
   "source": [
    "### Теперь сделаем табличку пользователь-группа"
   ]
  },
  {
   "cell_type": "code",
   "execution_count": 221,
   "id": "53738fb4-40d8-4219-bd25-4e3f3d39de2c",
   "metadata": {},
   "outputs": [
    {
     "data": {
      "text/html": [
       "<div>\n",
       "<style scoped>\n",
       "    .dataframe tbody tr th:only-of-type {\n",
       "        vertical-align: middle;\n",
       "    }\n",
       "\n",
       "    .dataframe tbody tr th {\n",
       "        vertical-align: top;\n",
       "    }\n",
       "\n",
       "    .dataframe thead th {\n",
       "        text-align: right;\n",
       "    }\n",
       "</style>\n",
       "<table border=\"1\" class=\"dataframe\">\n",
       "  <thead>\n",
       "    <tr style=\"text-align: right;\">\n",
       "      <th></th>\n",
       "      <th>user_id</th>\n",
       "      <th>exp_group</th>\n",
       "    </tr>\n",
       "  </thead>\n",
       "  <tbody>\n",
       "    <tr>\n",
       "      <th>0</th>\n",
       "      <td>128381</td>\n",
       "      <td>control</td>\n",
       "    </tr>\n",
       "    <tr>\n",
       "      <th>1</th>\n",
       "      <td>146885</td>\n",
       "      <td>test</td>\n",
       "    </tr>\n",
       "    <tr>\n",
       "      <th>2</th>\n",
       "      <td>50948</td>\n",
       "      <td>test</td>\n",
       "    </tr>\n",
       "    <tr>\n",
       "      <th>3</th>\n",
       "      <td>37703</td>\n",
       "      <td>test</td>\n",
       "    </tr>\n",
       "    <tr>\n",
       "      <th>4</th>\n",
       "      <td>14661</td>\n",
       "      <td>test</td>\n",
       "    </tr>\n",
       "    <tr>\n",
       "      <th>...</th>\n",
       "      <td>...</td>\n",
       "      <td>...</td>\n",
       "    </tr>\n",
       "    <tr>\n",
       "      <th>193290</th>\n",
       "      <td>158267</td>\n",
       "      <td>test</td>\n",
       "    </tr>\n",
       "    <tr>\n",
       "      <th>193291</th>\n",
       "      <td>63527</td>\n",
       "      <td>control</td>\n",
       "    </tr>\n",
       "    <tr>\n",
       "      <th>193292</th>\n",
       "      <td>52169</td>\n",
       "      <td>test</td>\n",
       "    </tr>\n",
       "    <tr>\n",
       "      <th>193293</th>\n",
       "      <td>142402</td>\n",
       "      <td>test</td>\n",
       "    </tr>\n",
       "    <tr>\n",
       "      <th>193294</th>\n",
       "      <td>72259</td>\n",
       "      <td>control</td>\n",
       "    </tr>\n",
       "  </tbody>\n",
       "</table>\n",
       "<p>193268 rows × 2 columns</p>\n",
       "</div>"
      ],
      "text/plain": [
       "        user_id exp_group\n",
       "0        128381   control\n",
       "1        146885      test\n",
       "2         50948      test\n",
       "3         37703      test\n",
       "4         14661      test\n",
       "...         ...       ...\n",
       "193290   158267      test\n",
       "193291    63527   control\n",
       "193292    52169      test\n",
       "193293   142402      test\n",
       "193294    72259   control\n",
       "\n",
       "[193268 rows x 2 columns]"
      ]
     },
     "execution_count": 221,
     "metadata": {},
     "output_type": "execute_result"
    }
   ],
   "source": [
    "df_user_group = remove_views[['user_id', 'exp_group']]\n",
    "df_user_group "
   ]
  },
  {
   "cell_type": "markdown",
   "id": "e9a4f6df-96a4-458f-90be-1d6b1ced1b42",
   "metadata": {},
   "source": [
    "### Проведем биномиальный тест, чтобы проверить соответствие доли каждой группы с ожидаемым 0.5, то есть чтобы группы были с одинаковым количеством пользователей"
   ]
  },
  {
   "cell_type": "code",
   "execution_count": 222,
   "id": "151324e9-6a69-4698-9f34-0f4baf067823",
   "metadata": {},
   "outputs": [
    {
     "name": "stdout",
     "output_type": "stream",
     "text": [
      "Размер тестовой группы: 96898 \n",
      "Размер контрольной группы: 96370\n",
      "p-value = 0.114\n",
      "Groups have the same number of users\n"
     ]
    }
   ],
   "source": [
    "from scipy.stats import binom\n",
    "\n",
    "test_count = df_user_group[df_user_group['exp_group']=='test'].shape[0]\n",
    "control_count = df_user_group[df_user_group['exp_group']=='control'].shape[0]\n",
    "print(f'Размер тестовой группы: {test_count} \\nРазмер контрольной группы: {control_count}')\n",
    "\n",
    "total_count = df_user_group.shape[0]\n",
    "\n",
    "alpha=0.05\n",
    "p_value = stats.binom.sf(test_count, total_count, p=0.5) #Двустороннее распределение\n",
    "print(f'p-value = {p_value:.3f}')\n",
    "\n",
    "if p_value<alpha:\n",
    "    print('Not equels groups')\n",
    "else:\n",
    "    print('Groups have the same number of users')"
   ]
  },
  {
   "cell_type": "markdown",
   "id": "98395aba-6117-4910-b385-2ab2f7382db2",
   "metadata": {},
   "source": [
    "### Проверим, улучшаются ли метрики в тестовой группе. Посчитаем сколько пользователей, для которых мы строили рекомендации сделали хотя бы один лайк."
   ]
  },
  {
   "cell_type": "code",
   "execution_count": 223,
   "id": "ddff8da1-5931-411e-bf1c-97932a26e4c2",
   "metadata": {},
   "outputs": [
    {
     "name": "stdout",
     "output_type": "stream",
     "text": [
      "Доля пользователей с лайками: 0.89\n"
     ]
    }
   ],
   "source": [
    "like_counts = remove_likes.groupby('user_id').size().reset_index(name='like')\n",
    "\n",
    "# Убираем дубликаты по user_id перед merge\n",
    "remove_views_unique = remove_views.drop_duplicates(subset=['user_id'])\n",
    "\n",
    "recommendations = pd.merge(remove_views_unique, like_counts, on='user_id', how='left')\n",
    "recommendations = recommendations.fillna(0)\n",
    "\n",
    "cnt_user_like = recommendations[recommendations['like'] > 0].shape[0]\n",
    "print(f'Доля пользователей с лайками: {cnt_user_like/recommendations.shape[0]:.2f}')\n"
   ]
  },
  {
   "cell_type": "code",
   "execution_count": 224,
   "id": "16f3369a-c07a-4876-a802-a682391e0f1d",
   "metadata": {},
   "outputs": [
    {
     "data": {
      "text/plain": [
       "user_id            0\n",
       "exp_group          0\n",
       "recommendations    0\n",
       "timestamp          0\n",
       "like               0\n",
       "dtype: int64"
      ]
     },
     "execution_count": 224,
     "metadata": {},
     "output_type": "execute_result"
    }
   ],
   "source": [
    "recommendations.isnull().sum()"
   ]
  },
  {
   "cell_type": "code",
   "execution_count": 225,
   "id": "f67daa69-d725-4f99-b80e-2c1f9365f6ea",
   "metadata": {},
   "outputs": [
    {
     "data": {
      "text/plain": [
       "65009"
      ]
     },
     "execution_count": 225,
     "metadata": {},
     "output_type": "execute_result"
    }
   ],
   "source": [
    "recommendations.shape[0]"
   ]
  },
  {
   "cell_type": "code",
   "execution_count": 226,
   "id": "86e4c63f-5eee-40fa-b8e1-6485e8bc13ef",
   "metadata": {},
   "outputs": [
    {
     "data": {
      "text/html": [
       "<div>\n",
       "<style scoped>\n",
       "    .dataframe tbody tr th:only-of-type {\n",
       "        vertical-align: middle;\n",
       "    }\n",
       "\n",
       "    .dataframe tbody tr th {\n",
       "        vertical-align: top;\n",
       "    }\n",
       "\n",
       "    .dataframe thead th {\n",
       "        text-align: right;\n",
       "    }\n",
       "</style>\n",
       "<table border=\"1\" class=\"dataframe\">\n",
       "  <thead>\n",
       "    <tr style=\"text-align: right;\">\n",
       "      <th></th>\n",
       "      <th>user_id</th>\n",
       "      <th>exp_group</th>\n",
       "      <th>recommendations</th>\n",
       "      <th>timestamp</th>\n",
       "      <th>like</th>\n",
       "    </tr>\n",
       "  </thead>\n",
       "  <tbody>\n",
       "    <tr>\n",
       "      <th>0</th>\n",
       "      <td>128381</td>\n",
       "      <td>control</td>\n",
       "      <td>[3644 4529 4704 5294 4808]</td>\n",
       "      <td>1654030803</td>\n",
       "      <td>7.0</td>\n",
       "    </tr>\n",
       "    <tr>\n",
       "      <th>1</th>\n",
       "      <td>146885</td>\n",
       "      <td>test</td>\n",
       "      <td>[1399 1076  797 7015 5942]</td>\n",
       "      <td>1654030811</td>\n",
       "      <td>4.0</td>\n",
       "    </tr>\n",
       "    <tr>\n",
       "      <th>2</th>\n",
       "      <td>50948</td>\n",
       "      <td>test</td>\n",
       "      <td>[2315 3037 1861 6567 4093]</td>\n",
       "      <td>1654030825</td>\n",
       "      <td>5.0</td>\n",
       "    </tr>\n",
       "    <tr>\n",
       "      <th>3</th>\n",
       "      <td>37703</td>\n",
       "      <td>test</td>\n",
       "      <td>[2842 1949  162 1588 6794]</td>\n",
       "      <td>1654030826</td>\n",
       "      <td>6.0</td>\n",
       "    </tr>\n",
       "    <tr>\n",
       "      <th>4</th>\n",
       "      <td>14661</td>\n",
       "      <td>test</td>\n",
       "      <td>[2395 5881 5648 3417  673]</td>\n",
       "      <td>1654030829</td>\n",
       "      <td>11.0</td>\n",
       "    </tr>\n",
       "    <tr>\n",
       "      <th>...</th>\n",
       "      <td>...</td>\n",
       "      <td>...</td>\n",
       "      <td>...</td>\n",
       "      <td>...</td>\n",
       "      <td>...</td>\n",
       "    </tr>\n",
       "    <tr>\n",
       "      <th>65004</th>\n",
       "      <td>80500</td>\n",
       "      <td>test</td>\n",
       "      <td>[1588 4629 1457 3691 1688]</td>\n",
       "      <td>1655240212</td>\n",
       "      <td>1.0</td>\n",
       "    </tr>\n",
       "    <tr>\n",
       "      <th>65005</th>\n",
       "      <td>149686</td>\n",
       "      <td>test</td>\n",
       "      <td>[3203 6437 3681 2678 1629]</td>\n",
       "      <td>1655240216</td>\n",
       "      <td>1.0</td>\n",
       "    </tr>\n",
       "    <tr>\n",
       "      <th>65006</th>\n",
       "      <td>3615</td>\n",
       "      <td>control</td>\n",
       "      <td>[1578 6326  906 2833  993]</td>\n",
       "      <td>1655240322</td>\n",
       "      <td>1.0</td>\n",
       "    </tr>\n",
       "    <tr>\n",
       "      <th>65007</th>\n",
       "      <td>119630</td>\n",
       "      <td>test</td>\n",
       "      <td>[3143  599 4588 1577 7077]</td>\n",
       "      <td>1655240337</td>\n",
       "      <td>1.0</td>\n",
       "    </tr>\n",
       "    <tr>\n",
       "      <th>65008</th>\n",
       "      <td>142402</td>\n",
       "      <td>test</td>\n",
       "      <td>[5895 6984 1978 6548 6106]</td>\n",
       "      <td>1655240373</td>\n",
       "      <td>1.0</td>\n",
       "    </tr>\n",
       "  </tbody>\n",
       "</table>\n",
       "<p>65009 rows × 5 columns</p>\n",
       "</div>"
      ],
      "text/plain": [
       "       user_id exp_group             recommendations   timestamp  like\n",
       "0       128381   control  [3644 4529 4704 5294 4808]  1654030803   7.0\n",
       "1       146885      test  [1399 1076  797 7015 5942]  1654030811   4.0\n",
       "2        50948      test  [2315 3037 1861 6567 4093]  1654030825   5.0\n",
       "3        37703      test  [2842 1949  162 1588 6794]  1654030826   6.0\n",
       "4        14661      test  [2395 5881 5648 3417  673]  1654030829  11.0\n",
       "...        ...       ...                         ...         ...   ...\n",
       "65004    80500      test  [1588 4629 1457 3691 1688]  1655240212   1.0\n",
       "65005   149686      test  [3203 6437 3681 2678 1629]  1655240216   1.0\n",
       "65006     3615   control  [1578 6326  906 2833  993]  1655240322   1.0\n",
       "65007   119630      test  [3143  599 4588 1577 7077]  1655240337   1.0\n",
       "65008   142402      test  [5895 6984 1978 6548 6106]  1655240373   1.0\n",
       "\n",
       "[65009 rows x 5 columns]"
      ]
     },
     "execution_count": 226,
     "metadata": {},
     "output_type": "execute_result"
    }
   ],
   "source": [
    "recommendations"
   ]
  },
  {
   "cell_type": "markdown",
   "id": "7bbb643c-d621-482f-98b2-84b560d2082d",
   "metadata": {},
   "source": [
    "### Посмотрим распределение лайков"
   ]
  },
  {
   "cell_type": "code",
   "execution_count": 227,
   "id": "551b7225-3082-4fd2-9a88-c6d9d5100333",
   "metadata": {},
   "outputs": [
    {
     "data": {
      "text/plain": [
       "<Axes: xlabel='like', ylabel='Count'>"
      ]
     },
     "execution_count": 227,
     "metadata": {},
     "output_type": "execute_result"
    },
    {
     "data": {
      "image/png": "[encoded data removed]",
      "text/plain": [
       "<Figure size 800x600 with 1 Axes>"
      ]
     },
     "metadata": {},
     "output_type": "display_data"
    }
   ],
   "source": [
    "import matplotlib.pyplot as plt\n",
    "import seaborn as sns\n",
    "\n",
    "plt.figure(figsize=(8, 6))\n",
    "\n",
    "sns.histplot(recommendations['like'], bins=50)"
   ]
  },
  {
   "cell_type": "markdown",
   "id": "0daa4830-268a-4e56-a6b3-15a577a82b52",
   "metadata": {},
   "source": [
    "Видим, что распределение скошено."
   ]
  },
  {
   "cell_type": "markdown",
   "id": "0bf5d97a-8b04-4dab-9794-05c68bb01905",
   "metadata": {},
   "source": [
    "### Через стат критерий проверим две метрики: \n",
    "    1. Доля пользователей хотя бы с 1 лайком - z test\n",
    "    2. Число лайков на пользователя - Манна-Уитни-Уилкоксона"
   ]
  },
  {
   "attachments": {
    "10b7b521-a485-4ecd-b4d1-7e692948d2cc.png": {
     "image/png": "[encoded data removed]"
    }
   },
   "cell_type": "markdown",
   "id": "0101d9c9-12fb-41fe-94c2-969d43d42b32",
   "metadata": {},
   "source": [
    "![Снимок экрана 2025-03-10 в 22.36.13.png](attachment:10b7b521-a485-4ecd-b4d1-7e692948d2cc.png)"
   ]
  },
  {
   "cell_type": "code",
   "execution_count": 228,
   "id": "33c336d7-6739-4da0-81f7-aee31da97a3f",
   "metadata": {},
   "outputs": [
    {
     "name": "stdout",
     "output_type": "stream",
     "text": [
      "z test = 2.8440248969682322\n",
      "p value = 0.0044547566854864495\n",
      "Доли пользователей с хотя бы одним лайком различаются между группами.\n"
     ]
    }
   ],
   "source": [
    "import numpy as np\n",
    "\n",
    "df_test = recommendations[recommendations['exp_group']=='test']\n",
    "df_control = recommendations[recommendations['exp_group']=='control']\n",
    "\n",
    "n_test = df_test.shape[0]\n",
    "n_control = df_control.shape[0]\n",
    "\n",
    "p_test = df_test[df_test['like'] > 0].shape[0] / n_test\n",
    "p_control = df_control[df_control['like'] > 0].shape[0] / n_control\n",
    "\n",
    "x_test = df_test[df_test['like'] > 0].shape[0]\n",
    "x_control = df_control[df_control['like'] > 0].shape[0]\n",
    "\n",
    "p_pooled = (x_test + x_control) / (n_test + n_control)\n",
    "\n",
    "z_stat = (p_test - p_control) / (np.sqrt(p_pooled * (1 - p_pooled) * (1/n_test + 1/n_control)))\n",
    "print(f'z test = {z_stat}')\n",
    "\n",
    "p_value = 2 * (1 - stats.norm.cdf(abs(z_stat)))\n",
    "print(f'p value = {p_value}')\n",
    "\n",
    "alpha = 0.05\n",
    "if p_value < alpha:\n",
    "    print('Доли пользователей с хотя бы одним лайком различаются между группами.')\n",
    "else:\n",
    "    print('Доли пользователей с хотя бы одним лайком не различаются между группами.')"
   ]
  },
  {
   "cell_type": "code",
   "execution_count": 229,
   "id": "6dd94c21-f7cb-4ade-a5ec-2504ae0d18ab",
   "metadata": {},
   "outputs": [
    {
     "name": "stdout",
     "output_type": "stream",
     "text": [
      "Статистика теста: 538160577.0\n",
      "p-value: 2.9585062792441953e-05\n",
      "Число лайков на пользователя различается между группами.\n",
      "Медиана для тестовой группы: 3.0\n",
      "Медиана для контрольной группы: 3.0\n",
      "Число лайков на пользователя не изменилось между группами.\n"
     ]
    }
   ],
   "source": [
    "from scipy.stats import mannwhitneyu\n",
    "\n",
    "likes_per_user_test = recommendations[recommendations['exp_group'] == 'test']['like']\n",
    "likes_per_user_control = recommendations[recommendations['exp_group'] == 'control']['like']\n",
    "\n",
    "stat, p_value = mannwhitneyu(likes_per_user_test, likes_per_user_control, alternative='two-sided')\n",
    "\n",
    "print(f\"Статистика теста: {stat}\")\n",
    "print(f\"p-value: {p_value}\")\n",
    "\n",
    "alpha = 0.05\n",
    "if p_value < alpha:\n",
    "    print('Число лайков на пользователя различается между группами.')\n",
    "else:\n",
    "    print('Число лайков на пользователя не различается между группами.')\n",
    "\n",
    "\n",
    "median_test = likes_per_user_test.median()\n",
    "median_control = likes_per_user_control.median()\n",
    "\n",
    "print(f\"Медиана для тестовой группы: {median_test}\")\n",
    "print(f\"Медиана для контрольной группы: {median_control}\")\n",
    "\n",
    "if median_test > median_control:\n",
    "    print(\"Число лайков на пользователя улучшилось в тестовой группе.\")\n",
    "elif median_test < median_control:\n",
    "    print(\"Число лайков на пользователя ухудшилось в тестовой группе.\")\n",
    "else:\n",
    "    print(\"Число лайков на пользователя не изменилось между группами.\")\n",
    "\n"
   ]
  },
  {
   "cell_type": "markdown",
   "id": "87f706e9-7e62-4891-a2e2-d016150bf387",
   "metadata": {},
   "source": [
    "Видим, что статистика показывает, что изменения существенны в обеих группах в лучшую сторону"
   ]
  },
  {
   "cell_type": "markdown",
   "id": "7a73dd62-d2a7-42dc-b1e0-6b4968d11bac",
   "metadata": {},
   "source": [
    "### Теперь будем считать HitRate"
   ]
  },
  {
   "cell_type": "markdown",
   "id": "1c11f7f2-35c1-44c0-8548-c205a4ff92cb",
   "metadata": {},
   "source": [
    "У нас нет айдишника, по которому мы можем сджойнить, но есть два других способа сделать это:\n",
    "\n",
    "1. По каждому пользователю отсортировать в обратном по времени порядке все лайки и показы рекомендаций (удобнее прямо в одном списке). Далее в цикле пробежаться по этому списку. Если мы встречаем лайк, то запоминаем его (лайков может быть несколько подряд, надо сохранить все). Если мы встречаем показ рекомендаций, то сохраняем его вместе с уже сохранёнными лайками (так как эти лайки следуют за этим показом рекомендаций в \"обычном направлении времени\"), при этом список сохранёных лайков очищаем (мы уже приписали эти лайки другим показам). Тем самым мы соединим все показы рекомендаций со всеми лайками после них. Нужно только ещё следить за тем, что может быть лайк, который случился через большое время после показа рекомендаций — скорее всего, мы потеряли другой показ рекомендаций, поэтому такой лайк не надо учитывать.\n",
    "\n",
    "\n",
    "2. Сделать join по пользователям всех лайков и всех показов рекомендаций (то есть у нас появятся пары всех показов и всех лайков одного и того же пользователя, но не все эти пары реальны). Далее отфильтровать те ситуации, где лайк предшествовал показу рекомендаций (то есть относился на самом деле к другому показу) или был слишком поздно (тоже относится к другому показу)."
   ]
  },
  {
   "cell_type": "markdown",
   "id": "de31c183-8de0-42e3-afdf-d52e857877ca",
   "metadata": {},
   "source": [
    "Оба эти способа не идеальные и довольно муторные. В pandas проще сделать второй из них. В качестве проверки \"лайк произошёл слишком поздно после рекомендации\" возьмите отсечку 1 час (только лучше сначала просто помечать такие показы, как \"отсутствие лайка\", потому что если совсем удалять, то можно потерять показ). Добавьте также фильтрацию на то, что в рекомендациях был пост, на который пользователь лайкнул (иначе это точно был другой показ). В самом конце проведите уникализацию всех этих пар в строки показ-лайки (количество лайков может быть нулевым)."
   ]
  },
  {
   "cell_type": "markdown",
   "id": "e8b4b946-fc90-4924-81f0-1621f5e7ae64",
   "metadata": {},
   "source": [
    "На каждом этапе фильтрации следите за размерами таблиц, это поможет вам убедиться, что происходит что-то корректное. Не забудьте учесть тот факт, что могут быть показы рекомендаций без лайков (либо через тип join, либо добавить эти строки в конце). В итоге число строк должно быть похожим на то, которые было сначала в табличке с показами.\n",
    " Посчитайте долю показов, в которых был хотя бы один лайк."
   ]
  },
  {
   "cell_type": "markdown",
   "id": "74c638fa-2253-40d4-a1dd-ad19e5d9f4db",
   "metadata": {},
   "source": [
    "Делаем так:\n",
    "\n",
    "1. Объединяем два датафрейма - с показами и кликами. Нужно подобрать такой джойн, чтобы остались и показы без кликов.\n",
    "\n",
    "2. Разбиваем значения в списке рекомендаций на отдельные - могут помочь [.str.split()](https://pandas.pydata.org/docs/reference/api/pandas.Series.str.split.html), [str.replace()](https://pandas.pydata.org/docs/reference/api/pandas.Series.str.replace.html)\n",
    "\n",
    "3. Помечаем все **ненужные** нам посты. Это те, у которых **нет id** (стоит пропуск в `post_id`), которые **лайкнули позже, чем через час**, в которых **просмотр оказался позже лайка**, а также те, которые **не рекомендовали**\n",
    "\n",
    "4. Самое сложное: для каждого юзера/поста/просмотра подбираем количество лайков, связанное именно с этой комбинацией. То есть лайкнул человек этот пост после показа или нет, 1 или 0, True или False. При этом учитывайте условия из прошлого шага - все эти варианты считаются за 0/False. Вот это и будет наш **hitrate**\n",
    "\n",
    "5. Остаётся лишь посчитать относительную частоту лайкания\n",
    "\n"
   ]
  },
  {
   "cell_type": "markdown",
   "id": "fd1c809a-4f1b-472f-adc3-7a6cbd4e028c",
   "metadata": {},
   "source": [
    "Помечаем все ненужные нам посты. Это те, у которых нет id (стоит пропуск в post_id), которые лайкнули позже, чем через час, в которых просмотр оказался позже лайка, а также те, которые не рекомендовали"
   ]
  },
  {
   "cell_type": "code",
   "execution_count": 311,
   "id": "5dbe9332-a2a7-4b2d-890b-a323e821cfdb",
   "metadata": {},
   "outputs": [],
   "source": [
    "df = pd.merge(remove_views, remove_likes, on='user_id', how='left')"
   ]
  },
  {
   "cell_type": "code",
   "execution_count": 312,
   "id": "a5c28a34-cedb-47e6-90be-7bf3e41cb80e",
   "metadata": {},
   "outputs": [
    {
     "data": {
      "text/html": [
       "<div>\n",
       "<style scoped>\n",
       "    .dataframe tbody tr th:only-of-type {\n",
       "        vertical-align: middle;\n",
       "    }\n",
       "\n",
       "    .dataframe tbody tr th {\n",
       "        vertical-align: top;\n",
       "    }\n",
       "\n",
       "    .dataframe thead th {\n",
       "        text-align: right;\n",
       "    }\n",
       "</style>\n",
       "<table border=\"1\" class=\"dataframe\">\n",
       "  <thead>\n",
       "    <tr style=\"text-align: right;\">\n",
       "      <th></th>\n",
       "      <th>user_id</th>\n",
       "      <th>exp_group</th>\n",
       "      <th>recommendations</th>\n",
       "      <th>timestamp_x</th>\n",
       "      <th>post_id</th>\n",
       "      <th>timestamp_y</th>\n",
       "    </tr>\n",
       "  </thead>\n",
       "  <tbody>\n",
       "    <tr>\n",
       "      <th>0</th>\n",
       "      <td>128381</td>\n",
       "      <td>control</td>\n",
       "      <td>[3644, 4529, 4704, 5294, 4808]</td>\n",
       "      <td>1970-01-01 00:00:01.654030803</td>\n",
       "      <td>4704</td>\n",
       "      <td>1970-01-01 00:00:01.654030804</td>\n",
       "    </tr>\n",
       "    <tr>\n",
       "      <th>1</th>\n",
       "      <td>128381</td>\n",
       "      <td>control</td>\n",
       "      <td>[3644, 4529, 4704, 5294, 4808]</td>\n",
       "      <td>1970-01-01 00:00:01.654030803</td>\n",
       "      <td>5294</td>\n",
       "      <td>1970-01-01 00:00:01.654030838</td>\n",
       "    </tr>\n",
       "    <tr>\n",
       "      <th>2</th>\n",
       "      <td>128381</td>\n",
       "      <td>control</td>\n",
       "      <td>[3644, 4529, 4704, 5294, 4808]</td>\n",
       "      <td>1970-01-01 00:00:01.654030803</td>\n",
       "      <td>3608</td>\n",
       "      <td>1970-01-01 00:00:01.655049327</td>\n",
       "    </tr>\n",
       "    <tr>\n",
       "      <th>3</th>\n",
       "      <td>128381</td>\n",
       "      <td>control</td>\n",
       "      <td>[3644, 4529, 4704, 5294, 4808]</td>\n",
       "      <td>1970-01-01 00:00:01.654030803</td>\n",
       "      <td>2542</td>\n",
       "      <td>1970-01-01 00:00:01.655049342</td>\n",
       "    </tr>\n",
       "    <tr>\n",
       "      <th>4</th>\n",
       "      <td>128381</td>\n",
       "      <td>control</td>\n",
       "      <td>[3644, 4529, 4704, 5294, 4808]</td>\n",
       "      <td>1970-01-01 00:00:01.654030803</td>\n",
       "      <td>4165</td>\n",
       "      <td>1970-01-01 00:00:01.655052806</td>\n",
       "    </tr>\n",
       "    <tr>\n",
       "      <th>...</th>\n",
       "      <td>...</td>\n",
       "      <td>...</td>\n",
       "      <td>...</td>\n",
       "      <td>...</td>\n",
       "      <td>...</td>\n",
       "      <td>...</td>\n",
       "    </tr>\n",
       "    <tr>\n",
       "      <th>1016884</th>\n",
       "      <td>52169</td>\n",
       "      <td>test</td>\n",
       "      <td>[1368, 1709, 1616, 798, 5305]</td>\n",
       "      <td>1970-01-01 00:00:01.655240354</td>\n",
       "      <td>1709</td>\n",
       "      <td>1970-01-01 00:00:01.655240369</td>\n",
       "    </tr>\n",
       "    <tr>\n",
       "      <th>1016885</th>\n",
       "      <td>142402</td>\n",
       "      <td>test</td>\n",
       "      <td>[5895, 6984, 1978, 6548, 6106]</td>\n",
       "      <td>1970-01-01 00:00:01.655240373</td>\n",
       "      <td>6548</td>\n",
       "      <td>1970-01-01 00:00:01.655240374</td>\n",
       "    </tr>\n",
       "    <tr>\n",
       "      <th>1016886</th>\n",
       "      <td>72259</td>\n",
       "      <td>control</td>\n",
       "      <td>[6117, 1255, 6567, 3587, 3811]</td>\n",
       "      <td>1970-01-01 00:00:01.655240388</td>\n",
       "      <td>1712</td>\n",
       "      <td>1970-01-01 00:00:01.654305111</td>\n",
       "    </tr>\n",
       "    <tr>\n",
       "      <th>1016887</th>\n",
       "      <td>72259</td>\n",
       "      <td>control</td>\n",
       "      <td>[6117, 1255, 6567, 3587, 3811]</td>\n",
       "      <td>1970-01-01 00:00:01.655240388</td>\n",
       "      <td>5070</td>\n",
       "      <td>1970-01-01 00:00:01.654308590</td>\n",
       "    </tr>\n",
       "    <tr>\n",
       "      <th>1016888</th>\n",
       "      <td>72259</td>\n",
       "      <td>control</td>\n",
       "      <td>[6117, 1255, 6567, 3587, 3811]</td>\n",
       "      <td>1970-01-01 00:00:01.655240388</td>\n",
       "      <td>4711</td>\n",
       "      <td>1970-01-01 00:00:01.654948583</td>\n",
       "    </tr>\n",
       "  </tbody>\n",
       "</table>\n",
       "<p>1016889 rows × 6 columns</p>\n",
       "</div>"
      ],
      "text/plain": [
       "         user_id exp_group                 recommendations  \\\n",
       "0         128381   control  [3644, 4529, 4704, 5294, 4808]   \n",
       "1         128381   control  [3644, 4529, 4704, 5294, 4808]   \n",
       "2         128381   control  [3644, 4529, 4704, 5294, 4808]   \n",
       "3         128381   control  [3644, 4529, 4704, 5294, 4808]   \n",
       "4         128381   control  [3644, 4529, 4704, 5294, 4808]   \n",
       "...          ...       ...                             ...   \n",
       "1016884    52169      test   [1368, 1709, 1616, 798, 5305]   \n",
       "1016885   142402      test  [5895, 6984, 1978, 6548, 6106]   \n",
       "1016886    72259   control  [6117, 1255, 6567, 3587, 3811]   \n",
       "1016887    72259   control  [6117, 1255, 6567, 3587, 3811]   \n",
       "1016888    72259   control  [6117, 1255, 6567, 3587, 3811]   \n",
       "\n",
       "                          timestamp_x  post_id                   timestamp_y  \n",
       "0       1970-01-01 00:00:01.654030803     4704 1970-01-01 00:00:01.654030804  \n",
       "1       1970-01-01 00:00:01.654030803     5294 1970-01-01 00:00:01.654030838  \n",
       "2       1970-01-01 00:00:01.654030803     3608 1970-01-01 00:00:01.655049327  \n",
       "3       1970-01-01 00:00:01.654030803     2542 1970-01-01 00:00:01.655049342  \n",
       "4       1970-01-01 00:00:01.654030803     4165 1970-01-01 00:00:01.655052806  \n",
       "...                               ...      ...                           ...  \n",
       "1016884 1970-01-01 00:00:01.655240354     1709 1970-01-01 00:00:01.655240369  \n",
       "1016885 1970-01-01 00:00:01.655240373     6548 1970-01-01 00:00:01.655240374  \n",
       "1016886 1970-01-01 00:00:01.655240388     1712 1970-01-01 00:00:01.654305111  \n",
       "1016887 1970-01-01 00:00:01.655240388     5070 1970-01-01 00:00:01.654308590  \n",
       "1016888 1970-01-01 00:00:01.655240388     4711 1970-01-01 00:00:01.654948583  \n",
       "\n",
       "[1016889 rows x 6 columns]"
      ]
     },
     "execution_count": 312,
     "metadata": {},
     "output_type": "execute_result"
    }
   ],
   "source": [
    "# Преобразование временных меток в формат datetime\n",
    "df['timestamp_x'] = pd.to_datetime(df['timestamp_x'])\n",
    "df['timestamp_y'] = pd.to_datetime(df['timestamp_y'], errors='coerce')\n",
    "\n",
    "df['recommendations'] = df['recommendations'].astype(str)\n",
    "df['recommendations'] = df['recommendations'].str.replace(r'[\\[\\]]', '', regex=True)\n",
    "df['recommendations'] = df['recommendations'].str.split()\n",
    "\n",
    "df['recommendations'] = df['recommendations'].apply(lambda x: list(map(int, x)))\n",
    "df['post_id'] = df['post_id'].astype('Int64')\n",
    "df"
   ]
  },
  {
   "cell_type": "code",
   "execution_count": 313,
   "id": "28bacb35-e7ff-4b58-8b3b-fcf967605829",
   "metadata": {},
   "outputs": [
    {
     "name": "stdout",
     "output_type": "stream",
     "text": [
      "Общий hitrate: 71.38%\n"
     ]
    }
   ],
   "source": [
    "df['is_valid'] = True\n",
    "\n",
    "df.loc[df['post_id'].isna(), 'is_valid'] = False  # Нет id поста\n",
    "df.loc[(df['timestamp_y'] - df['timestamp_x']) > pd.Timedelta(hours=1), 'is_valid'] = False  # Лайк позднее, чем через час\n",
    "df.loc[df['timestamp_x'] > df['timestamp_y'], 'is_valid'] = False  # Просмотр был позже лайка\n",
    "\n",
    "df_exploded = df.explode('recommendations')\n",
    "df['is_valid'] &= df.set_index(['post_id', df.index]).index.isin(df_exploded.set_index(['recommendations', df_exploded.index]).index)\n",
    "\n",
    "df['liked'] = df['is_valid'].astype(int) \n",
    "\n",
    "# Агрегация\n",
    "df_grouped = df.groupby(['user_id', 'exp_group', 'timestamp_x'])['liked'].max().reset_index()\n",
    "\n",
    "total_shows = len(df_grouped)  \n",
    "total_likes = df_grouped['liked'].sum() \n",
    "\n",
    "hitrate_overall = total_likes / total_shows  \n",
    "\n",
    "print(f\"Общий hitrate: {hitrate_overall:.2%}\")\n"
   ]
  },
  {
   "cell_type": "markdown",
   "id": "bb3ed40d-c549-4da1-9a59-05083a9cb658",
   "metadata": {},
   "source": [
    "### Оценим различие между группами и значимость"
   ]
  },
  {
   "cell_type": "markdown",
   "id": "5b9c285d-ee31-49cf-9863-d3d2511ae4f4",
   "metadata": {},
   "source": [
    "z-критерий для долей мы здесь не можем применять, так как у нас в каждой выборке один и тот же пользователь может встречаться несколько раз. Давайте применим бакетный подход (то есть перейдём к бакетам и по ним оценим значимость), чтобы посчитать групповой hitrate (или CTR) — доля hitrate по группе/бакету. Используйте 100 бакетов. Уровень значимости останется тем же на уровне 0.05."
   ]
  },
  {
   "cell_type": "code",
   "execution_count": 314,
   "id": "eb60373a-2354-44e1-8f1b-8983cf06e949",
   "metadata": {},
   "outputs": [
    {
     "name": "stdout",
     "output_type": "stream",
     "text": [
      "Статистика Т-тесат: 5.950545438007389\n",
      "p-value = 1.1950199981453349e-08\n",
      "Различие между группами статистически значимо\n"
     ]
    }
   ],
   "source": [
    "import hashlib\n",
    "\n",
    "df_grouped['bucket'] = df['user_id'].apply(\n",
    "    lambda x: int(hashlib.md5((str(x) + 'my_solt').encode()).hexdigest(), 16) % 100\n",
    ")\n",
    "\n",
    "alpha=0.05\n",
    "\n",
    "#HitRate\n",
    "df_buckets = df_grouped.groupby(['exp_group', 'bucket'])['liked'].mean().reset_index()\n",
    "\n",
    "df_buckets_test = df_buckets[df_buckets['exp_group'] == 'test']['liked']\n",
    "df_buckets_control = df_buckets[df_buckets['exp_group'] == 'control']['liked']\n",
    "\n",
    "t_stats, p_value = stats.ttest_ind(df_buckets_test, df_buckets_control)\n",
    "\n",
    "print(f'Статистика Т-тесат: {t_stats}')\n",
    "print(f'p-value = {p_value}')\n",
    "\n",
    "if p_value < alpha:\n",
    "    print('Различие между группами статистически значимо')\n",
    "else:\n",
    "    print('Различие между группами незначительно')"
   ]
  },
  {
   "cell_type": "code",
   "execution_count": 315,
   "id": "c28ff2f5-32c3-4929-a9f4-579f36108814",
   "metadata": {},
   "outputs": [
    {
     "name": "stdout",
     "output_type": "stream",
     "text": [
      "Hitrate в контрольной группе до бакетирования: 70.71%\n",
      "Hitrate в контрольной группе после бакетирования: 70.74%\n",
      "Разница для контрольной группы: 0.03%\n",
      "Hitrate в тестовой группе до бакетирования: 72.04%\n",
      "Hitrate в тестовой группе после бакетирования: 72.06%\n",
      "Разница для тестовой группы: 0.02%\n"
     ]
    }
   ],
   "source": [
    "# Считаем hitrate для каждой группы до бакетирования\n",
    "hitrate_control_before = df_grouped[df_grouped['exp_group'] == 'control']['liked'].mean()\n",
    "hitrate_test_before = df_grouped[df_grouped['exp_group'] == 'test']['liked'].mean()\n",
    "\n",
    "# Считаем hitrate для каждой группы после бакетирования (по бакетам)\n",
    "df_buckets = df_grouped.groupby(['exp_group', 'bucket'])['liked'].mean().reset_index()\n",
    "hitrate_control_after = df_buckets[df_buckets['exp_group'] == 'control']['liked'].mean()\n",
    "hitrate_test_after = df_buckets[df_buckets['exp_group'] == 'test']['liked'].mean()\n",
    "\n",
    "# Разница в процентных пунктах\n",
    "diff_control = hitrate_control_after - hitrate_control_before\n",
    "diff_test = hitrate_test_after - hitrate_test_before\n",
    "\n",
    "print(f\"Hitrate в контрольной группе до бакетирования: {hitrate_control_before:.2%}\")\n",
    "print(f\"Hitrate в контрольной группе после бакетирования: {hitrate_control_after:.2%}\")\n",
    "print(f\"Разница для контрольной группы: {diff_control:.2%}\")\n",
    "\n",
    "print(f\"Hitrate в тестовой группе до бакетирования: {hitrate_test_before:.2%}\")\n",
    "print(f\"Hitrate в тестовой группе после бакетирования: {hitrate_test_after:.2%}\")\n",
    "print(f\"Разница для тестовой группы: {diff_test:.2%}\")\n"
   ]
  },
  {
   "cell_type": "code",
   "execution_count": null,
   "id": "7af3a631-7115-460f-9f52-8b54d74810e3",
   "metadata": {},
   "outputs": [],
   "source": []
  }
 ],
 "metadata": {
  "kernelspec": {
   "display_name": "Python 3 (ipykernel)",
   "language": "python",
   "name": "python3"
  },
  "language_info": {
   "codemirror_mode": {
    "name": "ipython",
    "version": 3
   },
   "file_extension": ".py",
   "mimetype": "text/x-python",
   "name": "python",
   "nbconvert_exporter": "python",
   "pygments_lexer": "ipython3",
   "version": "3.12.4"
  }
 },
 "nbformat": 4,
 "nbformat_minor": 5
}
